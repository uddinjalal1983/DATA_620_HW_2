{
 "cells": [
  {
   "cell_type": "code",
   "execution_count": 1,
   "metadata": {
    "collapsed": true
   },
   "outputs": [],
   "source": [
    "import matplotlib.pyplot as mp\n",
    "import networkx as nt"
   ]
  },
  {
   "cell_type": "code",
   "execution_count": 2,
   "metadata": {
    "collapsed": false
   },
   "outputs": [
    {
     "data": {
      "image/png": "[encoded data removed]",
      "text/plain": [
       "<matplotlib.figure.Figure at 0x8d56b38>"
      ]
     },
     "metadata": {},
     "output_type": "display_data"
    }
   ],
   "source": [
    "%matplotlib inline\n",
    "\n",
    "Ga=nt.Graph()\n",
    "\n",
    "# create edges\n",
    "Ga.add_edge('A','B')\n",
    "Ga.add_edge('A','C')\n",
    "Ga.add_edge('A','D')\n",
    "Ga.add_edge('B','A')\n",
    "Ga.add_edge('B','D')\n",
    "Ga.add_edge('B','E')\n",
    "Ga.add_edge('C','A')\n",
    "Ga.add_edge('C','D')\n",
    "Ga.add_edge('C','F')\n",
    "Ga.add_edge('F','G')\n",
    "Ga.add_edge('F','D')\n",
    "Ga.add_edge('F','C')\n",
    "Ga.add_edge('G','E')\n",
    "Ga.add_edge('G','D')\n",
    "Ga.add_edge('G','F')\n",
    "Ga.add_edge('G','H')\n",
    "Ga.add_edge('E','B')\n",
    "Ga.add_edge('E','D')\n",
    "Ga.add_edge('E','G')\n",
    "Ga.add_edge('H','F')\n",
    "Ga.add_edge('H','G')\n",
    "Ga.add_edge('H','I')\n",
    "Ga.add_edge('I','H')\n",
    "Ga.add_edge('I','J')\n",
    "Ga.add_edge('J','I')\n",
    "\n",
    "# Set node positions explicitly \n",
    "pos={'A':(0,1),\n",
    "     'B':(0,-1),\n",
    "     'C':(1,2),\n",
    "     'D':(1,0),\n",
    "     'E':(1,-2),\n",
    "     'I':(4,0),\n",
    "     'G':(2,-1),\n",
    "     'J':(5,0),\n",
    "     'F':(2,1),\n",
    "     'H':(3,0)}\n",
    "\n",
    "# nodes\n",
    "nt.draw_networkx_nodes(Ga,pos,node_size=1200, node_color='pink')\n",
    "\n",
    "# edges\n",
    "nt.draw_networkx_edges(Ga,pos,alpha=0.8,width=8)\n",
    "\n",
    "# labels\n",
    "nt.draw_networkx_labels(Ga,pos,font_size=16,font_family='sans-serif')\n",
    "\n",
    "mp.axis('off')\n",
    "mp.show() # display"
   ]
  },
  {
   "cell_type": "code",
   "execution_count": null,
   "metadata": {
    "collapsed": true
   },
   "outputs": [],
   "source": []
  }
 ],
 "metadata": {
  "kernelspec": {
   "display_name": "Python 2",
   "language": "python",
   "name": "python2"
  },
  "language_info": {
   "codemirror_mode": {
    "name": "ipython",
    "version": 2
   },
   "file_extension": ".py",
   "mimetype": "text/x-python",
   "name": "python",
   "nbconvert_exporter": "python",
   "pygments_lexer": "ipython2",
   "version": "2.7.11"
  }
 },
 "nbformat": 4,
 "nbformat_minor": 0
}
